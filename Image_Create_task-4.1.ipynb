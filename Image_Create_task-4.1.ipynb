{
 "cells": [
  {
   "cell_type": "code",
   "execution_count": 8,
   "id": "f27f225c",
   "metadata": {},
   "outputs": [],
   "source": [
    "import numpy,cv2,random\n",
    "black_img= numpy.zeros((256,256,3))\n",
    "pic1=cv2.imread(\"anime_256_x_256.jpg\")\n",
    "pic2=cv2.imread(\"skull_256_x_256.png\")"
   ]
  },
  {
   "cell_type": "code",
   "execution_count": 9,
   "id": "563fd216",
   "metadata": {},
   "outputs": [],
   "source": [
    "for i in range(0,256):\n",
    "    for j in range(0,256):\n",
    "        black_img[i][j]=[random.randrange(0,255),random.randrange(0,255),random.randrange(0,255)]   \n",
    "        pic1[i][j]=[random.randrange(0,255),random.randrange(0,255),random.randrange(0,255)]            \n",
    "        pic2[i][j]=[random.randrange(0,255),random.randrange(0,255),random.randrange(0,255)]       "
   ]
  },
  {
   "cell_type": "code",
   "execution_count": 10,
   "id": "b6fba67c",
   "metadata": {},
   "outputs": [],
   "source": [
    "cv2.imshow(\"hello\",black_img)\n",
    "cv2.imshow(\"hi\",pic1)\n",
    "cv2.imshow(\"hey\",pic2)\n",
    "cv2.waitKey()\n",
    "cv2.destroyAllWindows()"
   ]
  },
  {
   "cell_type": "code",
   "execution_count": null,
   "id": "0147e190",
   "metadata": {},
   "outputs": [],
   "source": []
  }
 ],
 "metadata": {
  "kernelspec": {
   "display_name": "Python 3",
   "language": "python",
   "name": "python3"
  },
  "language_info": {
   "codemirror_mode": {
    "name": "ipython",
    "version": 3
   },
   "file_extension": ".py",
   "mimetype": "text/x-python",
   "name": "python",
   "nbconvert_exporter": "python",
   "pygments_lexer": "ipython3",
   "version": "3.8.8"
  }
 },
 "nbformat": 4,
 "nbformat_minor": 5
}
