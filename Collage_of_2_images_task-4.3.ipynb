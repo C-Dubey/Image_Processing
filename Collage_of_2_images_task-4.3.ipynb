{
 "cells": [
  {
   "cell_type": "code",
   "execution_count": 1,
   "id": "a1cd288c",
   "metadata": {},
   "outputs": [],
   "source": [
    "import cv2"
   ]
  },
  {
   "cell_type": "code",
   "execution_count": 2,
   "id": "a8dda20c",
   "metadata": {},
   "outputs": [],
   "source": [
    "import numpy"
   ]
  },
  {
   "cell_type": "code",
   "execution_count": 3,
   "id": "ad4d039d",
   "metadata": {},
   "outputs": [],
   "source": [
    "pic1=cv2.imread(\"anime_256_x_256.jpg\")"
   ]
  },
  {
   "cell_type": "code",
   "execution_count": 4,
   "id": "08e28bf5",
   "metadata": {},
   "outputs": [],
   "source": [
    "pic2=cv2.imread(\"skull_256_x_256.png\")"
   ]
  },
  {
   "cell_type": "code",
   "execution_count": 5,
   "id": "16e6b4e4",
   "metadata": {},
   "outputs": [],
   "source": [
    "#temp_image=numpy.zeros((256,512,3))"
   ]
  },
  {
   "cell_type": "code",
   "execution_count": 6,
   "id": "4627e73f",
   "metadata": {},
   "outputs": [],
   "source": [
    "#temp_image[:,0:256]=pic1"
   ]
  },
  {
   "cell_type": "code",
   "execution_count": 7,
   "id": "8f626aa1",
   "metadata": {},
   "outputs": [],
   "source": [
    "#temp_image[:,256:512]=pic2"
   ]
  },
  {
   "cell_type": "code",
   "execution_count": 8,
   "id": "1ccf32c2",
   "metadata": {},
   "outputs": [],
   "source": [
    "#cv2.imshow(\"collage\",temp_image)\n",
    "#cv2.imshow(\"pic1\",pic1)\n",
    "#cv2.imshow(\"pic2\",pic2)\n",
    "#cv2.waitKey()\n",
    "#cv2.destroyAllWindows()"
   ]
  },
  {
   "cell_type": "code",
   "execution_count": 9,
   "id": "c8c72660",
   "metadata": {},
   "outputs": [],
   "source": [
    "#collage=cv2.cvtColor(temp_image,cv2.COLOR_BGR2RGB)         # Getting Error"
   ]
  },
  {
   "cell_type": "code",
   "execution_count": 10,
   "id": "d2b3c7d8",
   "metadata": {},
   "outputs": [],
   "source": [
    "collage=numpy.hstack((pic1,pic2))"
   ]
  },
  {
   "cell_type": "code",
   "execution_count": 12,
   "id": "82b6e717",
   "metadata": {},
   "outputs": [],
   "source": [
    "#COLL=cv2.cvtColor(collage,cv2.COLOR_BGR2GRAY)\n",
    "cv2.imshow(\"Collage\",COLL)\n",
    "cv2.waitKey()\n",
    "cv2.destroyAllWindows()"
   ]
  },
  {
   "cell_type": "code",
   "execution_count": null,
   "id": "96d48f22",
   "metadata": {},
   "outputs": [],
   "source": []
  }
 ],
 "metadata": {
  "kernelspec": {
   "display_name": "Python 3",
   "language": "python",
   "name": "python3"
  },
  "language_info": {
   "codemirror_mode": {
    "name": "ipython",
    "version": 3
   },
   "file_extension": ".py",
   "mimetype": "text/x-python",
   "name": "python",
   "nbconvert_exporter": "python",
   "pygments_lexer": "ipython3",
   "version": "3.8.8"
  }
 },
 "nbformat": 4,
 "nbformat_minor": 5
}
