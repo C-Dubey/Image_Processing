{
 "cells": [
  {
   "cell_type": "code",
   "execution_count": 1,
   "id": "cdcd67e9",
   "metadata": {},
   "outputs": [],
   "source": [
    "import cv2,numpy"
   ]
  },
  {
   "cell_type": "code",
   "execution_count": 2,
   "id": "0a3d2427",
   "metadata": {},
   "outputs": [],
   "source": [
    "pic1=cv2.imread(\"anime_256_x_256.jpg\")"
   ]
  },
  {
   "cell_type": "code",
   "execution_count": 3,
   "id": "ba9d711b",
   "metadata": {},
   "outputs": [],
   "source": [
    "pic=cv2.imread(\"anime_256_x_256.jpg\")"
   ]
  },
  {
   "cell_type": "code",
   "execution_count": 4,
   "id": "65a8508a",
   "metadata": {},
   "outputs": [],
   "source": [
    "pic2=cv2.imread(\"skull_256_x_256.png\")"
   ]
  },
  {
   "cell_type": "code",
   "execution_count": 5,
   "id": "6de19e8d",
   "metadata": {},
   "outputs": [],
   "source": [
    "#Image Creation\n",
    "temp_image=numpy.zeros((128,128))"
   ]
  },
  {
   "cell_type": "code",
   "execution_count": 6,
   "id": "40a636b2",
   "metadata": {},
   "outputs": [],
   "source": [
    "temp_image=pic1[64:192,64:192]"
   ]
  },
  {
   "cell_type": "code",
   "execution_count": 7,
   "id": "3c9d5239",
   "metadata": {},
   "outputs": [],
   "source": [
    "pic1[64:192,64:192]=pic2[64:192,64:192]"
   ]
  },
  {
   "cell_type": "code",
   "execution_count": 8,
   "id": "09677173",
   "metadata": {},
   "outputs": [],
   "source": [
    "temp_image=pic[64:192,64:192]"
   ]
  },
  {
   "cell_type": "code",
   "execution_count": 9,
   "id": "421b057d",
   "metadata": {},
   "outputs": [],
   "source": [
    "pic2[64:192,64:192]=temp_image"
   ]
  },
  {
   "cell_type": "code",
   "execution_count": 10,
   "id": "57807ae3",
   "metadata": {},
   "outputs": [],
   "source": [
    "cv2.imshow(\"Pic1\",pic1)\n",
    "cv2.imshow(\"Pic2\",pic2)\n",
    "cv2.waitKey()\n",
    "cv2.destroyAllWindows()"
   ]
  },
  {
   "cell_type": "code",
   "execution_count": null,
   "id": "b2227b58",
   "metadata": {},
   "outputs": [],
   "source": []
  }
 ],
 "metadata": {
  "kernelspec": {
   "display_name": "Python 3",
   "language": "python",
   "name": "python3"
  },
  "language_info": {
   "codemirror_mode": {
    "name": "ipython",
    "version": 3
   },
   "file_extension": ".py",
   "mimetype": "text/x-python",
   "name": "python",
   "nbconvert_exporter": "python",
   "pygments_lexer": "ipython3",
   "version": "3.8.8"
  }
 },
 "nbformat": 4,
 "nbformat_minor": 5
}
