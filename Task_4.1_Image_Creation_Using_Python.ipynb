{
 "cells": [
  {
   "cell_type": "code",
   "execution_count": 1,
   "id": "ce89063e",
   "metadata": {},
   "outputs": [],
   "source": [
    "import numpy,cv2"
   ]
  },
  {
   "cell_type": "code",
   "execution_count": 2,
   "id": "024d5c86",
   "metadata": {},
   "outputs": [],
   "source": [
    "black_img= numpy.zeros((300,300,3))"
   ]
  },
  {
   "cell_type": "code",
   "execution_count": 3,
   "id": "85fe7e5b",
   "metadata": {},
   "outputs": [],
   "source": [
    "for i in range(0,100):\n",
    "    for j in range(0,100):\n",
    "        black_img[i][j]=[255,0,0]  # Blue\n",
    "for i in range(0,100):\n",
    "    for j in range(200,300):\n",
    "        black_img[i][j]=[255,255,0]  #orange\n",
    "for i in range(100,200):\n",
    "    for j in range(100,200):\n",
    "        black_img[i][j]=[0,255,0]    # Green\n",
    "for i in range(200,300):\n",
    "    for j in range(200,300):\n",
    "        black_img[i][j]=[0,0,255]    # Red\n",
    "for i in range(200,300):\n",
    "    for j in range(0,100):\n",
    "        black_img[i][j]=[0,255,255]   # Yellow"
   ]
  },
  {
   "cell_type": "code",
   "execution_count": 4,
   "id": "8009e102",
   "metadata": {},
   "outputs": [],
   "source": [
    "cv2.imshow(\"New_Image\",black_img)\n",
    "cv2.waitKey()\n",
    "cv2.destroyAllWindows()"
   ]
  },
  {
   "cell_type": "code",
   "execution_count": null,
   "id": "21679c10",
   "metadata": {},
   "outputs": [],
   "source": []
  },
  {
   "cell_type": "code",
   "execution_count": null,
   "id": "de7a0b8b",
   "metadata": {},
   "outputs": [],
   "source": []
  },
  {
   "cell_type": "code",
   "execution_count": null,
   "id": "a27ba6a0",
   "metadata": {},
   "outputs": [],
   "source": []
  },
  {
   "cell_type": "code",
   "execution_count": null,
   "id": "9722df93",
   "metadata": {},
   "outputs": [],
   "source": []
  },
  {
   "cell_type": "code",
   "execution_count": null,
   "id": "5a40328e",
   "metadata": {},
   "outputs": [],
   "source": []
  }
 ],
 "metadata": {
  "kernelspec": {
   "display_name": "Python 3",
   "language": "python",
   "name": "python3"
  },
  "language_info": {
   "codemirror_mode": {
    "name": "ipython",
    "version": 3
   },
   "file_extension": ".py",
   "mimetype": "text/x-python",
   "name": "python",
   "nbconvert_exporter": "python",
   "pygments_lexer": "ipython3",
   "version": "3.8.8"
  }
 },
 "nbformat": 4,
 "nbformat_minor": 5
}
