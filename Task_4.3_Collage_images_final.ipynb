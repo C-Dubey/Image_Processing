{
 "cells": [
  {
   "cell_type": "code",
   "execution_count": 1,
   "id": "3d41c0a3",
   "metadata": {},
   "outputs": [],
   "source": [
    "import numpy,cv2"
   ]
  },
  {
   "cell_type": "code",
   "execution_count": 2,
   "id": "4ec20da8",
   "metadata": {},
   "outputs": [],
   "source": [
    "pic1=cv2.imread(\"anime_256_x_256.jpg\")"
   ]
  },
  {
   "cell_type": "code",
   "execution_count": 3,
   "id": "09979b4b",
   "metadata": {},
   "outputs": [],
   "source": [
    "pic2=cv2.imread(\"skull_256_x_256.png\")"
   ]
  },
  {
   "cell_type": "code",
   "execution_count": 5,
   "id": "60095ba6",
   "metadata": {},
   "outputs": [],
   "source": [
    "# hstack() is used to add 2 numpy arrays together\n",
    "collage=numpy.hstack((pic1,pic2))"
   ]
  },
  {
   "cell_type": "code",
   "execution_count": 6,
   "id": "dd00a555",
   "metadata": {},
   "outputs": [],
   "source": [
    "cv2.imshow(\"Collage\",collage)\n",
    "cv2.waitKey()\n",
    "cv2.destroyAllWindows()"
   ]
  },
  {
   "cell_type": "code",
   "execution_count": null,
   "id": "fac7bbb6",
   "metadata": {},
   "outputs": [],
   "source": []
  }
 ],
 "metadata": {
  "kernelspec": {
   "display_name": "Python 3",
   "language": "python",
   "name": "python3"
  },
  "language_info": {
   "codemirror_mode": {
    "name": "ipython",
    "version": 3
   },
   "file_extension": ".py",
   "mimetype": "text/x-python",
   "name": "python",
   "nbconvert_exporter": "python",
   "pygments_lexer": "ipython3",
   "version": "3.8.8"
  }
 },
 "nbformat": 4,
 "nbformat_minor": 5
}
